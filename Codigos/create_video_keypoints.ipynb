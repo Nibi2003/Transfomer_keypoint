{
  "nbformat": 4,
  "nbformat_minor": 0,
  "metadata": {
    "colab": {
      "provenance": [],
      "authorship_tag": "ABX9TyNBbbPF/csmRZxd4kyDFFM9",
      "include_colab_link": true
    },
    "kernelspec": {
      "name": "python3",
      "display_name": "Python 3"
    },
    "language_info": {
      "name": "python"
    }
  },
  "cells": [
    {
      "cell_type": "markdown",
      "metadata": {
        "id": "view-in-github",
        "colab_type": "text"
      },
      "source": [
        "<a href=\"https://colab.research.google.com/github/Nibi2003/Transfomer_keypoint/blob/main/Codigos/create_video_keypoints.ipynb\" target=\"_parent\"><img src=\"https://colab.research.google.com/assets/colab-badge.svg\" alt=\"Open In Colab\"/></a>"
      ]
    },
    {
      "cell_type": "code",
      "source": [
        "from google.colab import drive\n",
        "\n",
        "drive.mount('/content/drive')\n"
      ],
      "metadata": {
        "colab": {
          "base_uri": "https://localhost:8080/"
        },
        "id": "oLuCECjw7FSJ",
        "outputId": "1314b9c3-bcd2-4208-c401-579fcba9e7e6"
      },
      "execution_count": 1,
      "outputs": [
        {
          "output_type": "stream",
          "name": "stdout",
          "text": [
            "Mounted at /content/drive\n"
          ]
        }
      ]
    },
    {
      "cell_type": "code",
      "source": [
        "!pip install moviepy\n"
      ],
      "metadata": {
        "colab": {
          "base_uri": "https://localhost:8080/"
        },
        "id": "ZW2S6goa7nsC",
        "outputId": "bbf98b8a-cd3e-430c-e8c1-557d60c88a45"
      },
      "execution_count": 3,
      "outputs": [
        {
          "output_type": "stream",
          "name": "stdout",
          "text": [
            "Requirement already satisfied: moviepy in /usr/local/lib/python3.10/dist-packages (1.0.3)\n",
            "Requirement already satisfied: decorator<5.0,>=4.0.2 in /usr/local/lib/python3.10/dist-packages (from moviepy) (4.4.2)\n",
            "Requirement already satisfied: tqdm<5.0,>=4.11.2 in /usr/local/lib/python3.10/dist-packages (from moviepy) (4.66.4)\n",
            "Requirement already satisfied: requests<3.0,>=2.8.1 in /usr/local/lib/python3.10/dist-packages (from moviepy) (2.31.0)\n",
            "Requirement already satisfied: proglog<=1.0.0 in /usr/local/lib/python3.10/dist-packages (from moviepy) (0.1.10)\n",
            "Requirement already satisfied: numpy>=1.17.3 in /usr/local/lib/python3.10/dist-packages (from moviepy) (1.25.2)\n",
            "Requirement already satisfied: imageio<3.0,>=2.5 in /usr/local/lib/python3.10/dist-packages (from moviepy) (2.31.6)\n",
            "Requirement already satisfied: imageio-ffmpeg>=0.2.0 in /usr/local/lib/python3.10/dist-packages (from moviepy) (0.5.1)\n",
            "Requirement already satisfied: pillow<10.1.0,>=8.3.2 in /usr/local/lib/python3.10/dist-packages (from imageio<3.0,>=2.5->moviepy) (9.4.0)\n",
            "Requirement already satisfied: setuptools in /usr/local/lib/python3.10/dist-packages (from imageio-ffmpeg>=0.2.0->moviepy) (67.7.2)\n",
            "Requirement already satisfied: charset-normalizer<4,>=2 in /usr/local/lib/python3.10/dist-packages (from requests<3.0,>=2.8.1->moviepy) (3.3.2)\n",
            "Requirement already satisfied: idna<4,>=2.5 in /usr/local/lib/python3.10/dist-packages (from requests<3.0,>=2.8.1->moviepy) (3.7)\n",
            "Requirement already satisfied: urllib3<3,>=1.21.1 in /usr/local/lib/python3.10/dist-packages (from requests<3.0,>=2.8.1->moviepy) (2.0.7)\n",
            "Requirement already satisfied: certifi>=2017.4.17 in /usr/local/lib/python3.10/dist-packages (from requests<3.0,>=2.8.1->moviepy) (2024.7.4)\n"
          ]
        }
      ]
    },
    {
      "cell_type": "code",
      "source": [
        "import cv2\n",
        "from moviepy.editor import VideoFileClip\n",
        "\n",
        "def get_video_info(video_path):\n",
        "    \"\"\"\n",
        "    Obtém informações detalhadas do vídeo.\n",
        "\n",
        "    Params:\n",
        "    video_path: str\n",
        "        Caminho para o arquivo de vídeo.\n",
        "\n",
        "    Returns:\n",
        "    dict\n",
        "        Dicionário contendo várias informações sobre o vídeo.\n",
        "    \"\"\"\n",
        "    # Use OpenCV to get basic information\n",
        "    cap = cv2.VideoCapture(video_path)\n",
        "    if not cap.isOpened():\n",
        "        raise ValueError(\"Erro ao abrir o vídeo.\")\n",
        "\n",
        "    fps = cap.get(cv2.CAP_PROP_FPS)\n",
        "    width = int(cap.get(cv2.CAP_PROP_FRAME_WIDTH))\n",
        "    height = int(cap.get(cv2.CAP_PROP_FRAME_HEIGHT))\n",
        "    frame_count = int(cap.get(cv2.CAP_PROP_FRAME_COUNT))\n",
        "    duration = frame_count / fps\n",
        "\n",
        "    cap.release()\n",
        "\n",
        "    # Use moviepy to get additional information\n",
        "    clip = VideoFileClip(video_path)\n",
        "    video_codec = \"N/A\"  # Substitute a placeholder, as moviepy may not provide this directly\n",
        "    audio_codec = \"N/A\"\n",
        "    audio_bitrate = \"N/A\"\n",
        "    audio_channels = \"N/A\"\n",
        "\n",
        "\n",
        "    return {\n",
        "        \"fps\": fps,\n",
        "        \"width\": width,\n",
        "        \"height\": height,\n",
        "        \"frame_count\": frame_count,\n",
        "        \"duration\": duration,\n",
        "\n",
        "    }\n",
        "\n",
        "# Caminho para o vídeo\n",
        "video_path = '/content/drive/MyDrive/GMA/Base atual/Base atual dividida/teste/0/bebe07-1.mp4'\n",
        "\n",
        "# Obter informações do vídeo\n",
        "video_info = get_video_info(video_path)\n",
        "print(f\"FPS: {video_info['fps']}\")\n",
        "print(f\"Largura: {video_info['width']}\")\n",
        "print(f\"Altura: {video_info['height']}\")\n",
        "print(f\"Número de Frames: {video_info['frame_count']}\")\n",
        "print(f\"Duração: {video_info['duration']} segundos\")\n",
        "\n"
      ],
      "metadata": {
        "colab": {
          "base_uri": "https://localhost:8080/"
        },
        "id": "m5pVHFgo7bEG",
        "outputId": "53e38f28-f9d6-4d24-a354-69ef947a58d6"
      },
      "execution_count": 9,
      "outputs": [
        {
          "output_type": "stream",
          "name": "stdout",
          "text": [
            "FPS: 30.0\n",
            "Largura: 1080\n",
            "Altura: 1920\n",
            "Número de Frames: 900\n",
            "Duração: 30.0 segundos\n"
          ]
        }
      ]
    },
    {
      "cell_type": "code",
      "source": [
        "import cv2\n",
        "import numpy as np\n",
        "import os\n",
        "\n",
        "class MediaPipeKeypointsVisualizer:\n",
        "    def __init__(self):\n",
        "        pass\n",
        "\n",
        "    def draw_keypoints(self, keypoints, limbs=None, width=1080, height=1920):\n",
        "        background = np.zeros((height, width, 3), dtype=np.uint8)\n",
        "\n",
        "        # Desenha os keypoints no fundo preto\n",
        "        for kp in keypoints:\n",
        "            x, y = int(kp[0] * width), int(kp[1] * height)  # Escala para o tamanho da imagem\n",
        "            cv2.circle(background, (x, y), 4, (0, 255, 0), -1)  # Desenha um círculo verde para cada ponto\n",
        "\n",
        "        # Desenha as conexões entre os keypoints\n",
        "        if limbs:\n",
        "            for limb in limbs:\n",
        "                start, end = limb\n",
        "                if start < len(keypoints) and end < len(keypoints):\n",
        "                    start_point = (int(keypoints[start][0] * width), int(keypoints[start][1] * height))\n",
        "                    end_point = (int(keypoints[end][0] * width), int(keypoints[end][1] * height))\n",
        "                    cv2.line(background, start_point, end_point, (0, 255, 255), 2)  # Desenha uma linha amarela para cada conexão\n",
        "\n",
        "        return background\n",
        "\n",
        "def create_video_from_keypoints(keypoints_file, out_path, fps=30, width=1080, height=1920, limbs=None):\n",
        "    \"\"\"\n",
        "    Cria um vídeo mostrando os keypoints com fundo preto.\n",
        "\n",
        "    Params:\n",
        "    keypoints_file: str\n",
        "        Caminho para o arquivo .npy contendo os keypoints.\n",
        "    out_path: str\n",
        "        Caminho onde o vídeo será salvo.\n",
        "    fps: int, optional\n",
        "        Frames por segundo do vídeo (default é 30).\n",
        "    width: int, optional\n",
        "        Largura do vídeo em pixels (default é 1080).\n",
        "    height: int, optional\n",
        "        Altura do vídeo em pixels (default é 1920).\n",
        "    limbs: list of tuples, optional\n",
        "        Lista de conexões entre os keypoints para desenhar os \"ossos\" (default é None).\n",
        "    \"\"\"\n",
        "    # Carrega os keypoints\n",
        "    keypoints = np.load(keypoints_file, allow_pickle=True)\n",
        "\n",
        "    # Cria uma instância de MediaPipeKeypointsVisualizer\n",
        "    visualizer = MediaPipeKeypointsVisualizer()\n",
        "\n",
        "    # Inicializa o objeto VideoWriter\n",
        "    fourcc = cv2.VideoWriter_fourcc(*'mp4v')  # Codec de vídeo\n",
        "    video_writer = cv2.VideoWriter(out_path, fourcc, fps, (width, height))\n",
        "\n",
        "    # Gera os frames e escreve no vídeo\n",
        "    for frame in keypoints:\n",
        "        frame_image = visualizer.draw_keypoints(frame, limbs=limbs, width=width, height=height)\n",
        "        video_writer.write(frame_image)\n",
        "\n",
        "    # Libera o objeto VideoWriter\n",
        "    video_writer.release()\n",
        "\n",
        "# Caminho para o arquivo .npy contendo os keypoints\n",
        "keypoints_file = '/content/drive/MyDrive/GMA/Base atual/Kp_aumentados/0/bebe02-1_keypoints_aug_0.npy'\n",
        "\n",
        "# Caminho para salvar o vídeo\n",
        "out_path = '/content/drive/MyDrive/GMA/Base atual/Kp_aumentados/Videos/bebe02-1_keypoints_aug_0.mp4'\n",
        "\n",
        "# Lista de conexões entre os keypoints (limbs)\n",
        "limbs = [\n",
        "    (0, 1), (1, 2), (2, 3), (3, 7), (0, 4), (4, 5), (5, 6), (6, 8),\n",
        "    (9, 10), (11, 12), (11, 13), (13, 15), (15, 17), (15, 19), (15, 21),\n",
        "    (17, 19), (12, 14), (14, 16), (16, 18), (16, 20), (16, 22), (18, 20),\n",
        "    (11, 23), (12, 24), (23, 24), (23, 25), (25, 27), (27, 29), (27, 31),\n",
        "    (29, 31), (24, 26), (26, 28), (28, 30), (28, 32), (30, 32)\n",
        "]\n",
        "\n",
        "# Criar o vídeo\n",
        "create_video_from_keypoints(keypoints_file, out_path, fps=30, width=1080, height=1920, limbs=limbs)\n",
        "\n",
        "print(f\"Vídeo criado e salvo em {out_path}\")\n"
      ],
      "metadata": {
        "colab": {
          "base_uri": "https://localhost:8080/"
        },
        "id": "m638lidB-tU2",
        "outputId": "6eec671f-9b11-44d2-eaa4-0d99c3e0327c"
      },
      "execution_count": 11,
      "outputs": [
        {
          "output_type": "stream",
          "name": "stdout",
          "text": [
            "Vídeo criado e salvo em /content/drive/MyDrive/GMA/Base atual/Kp_aumentados/Videos/bebe02-1_keypoints_aug_0.mp4\n"
          ]
        }
      ]
    },
    {
      "cell_type": "code",
      "source": [
        "#Excluir video criado\n",
        "import os\n",
        "\n",
        "# Caminho para o arquivo de vídeo que deseja excluir\n",
        "video_path_to_delete = '/content/drive/MyDrive/GMA/Base atual/Kp_aumentados/Videos/bebe02-1_keypoints_aug_0.mp4'\n",
        "\n",
        "# Verifica se o arquivo existe e o remove\n",
        "if os.path.exists(video_path_to_delete):\n",
        "    os.remove(video_path_to_delete)\n",
        "    print(f\"Vídeo {video_path_to_delete} foi excluído com sucesso.\")\n",
        "else:\n",
        "    print(f\"O arquivo {video_path_to_delete} não foi encontrado.\")\n"
      ],
      "metadata": {
        "colab": {
          "base_uri": "https://localhost:8080/"
        },
        "id": "SuQXrkE4_7Jq",
        "outputId": "71a855cb-55f1-4a9f-dac4-d904c5907a04"
      },
      "execution_count": 12,
      "outputs": [
        {
          "output_type": "stream",
          "name": "stdout",
          "text": [
            "Vídeo /content/drive/MyDrive/GMA/Base atual/Kp_aumentados/Videos/bebe02-1_keypoints_aug_0.mp4 foi excluído com sucesso.\n"
          ]
        }
      ]
    },
    {
      "cell_type": "code",
      "source": [
        "import os\n",
        "import glob\n",
        "import numpy as np\n",
        "\n",
        "data_dir = '/content/drive/MyDrive/GMA/Base atual/Kp_aumentados'\n",
        "\n",
        "keypoints_list = []\n",
        "labels_list = []\n",
        "\n",
        "def process_keypoints(base_path, keypoints_list, labels_list):\n",
        "    for class_folder in os.listdir(base_path):\n",
        "        class_path = os.path.join(base_path, class_folder)\n",
        "\n",
        "        for file_path in glob.glob(os.path.join(class_path, '*.npy')):\n",
        "            keypoints = np.load(file_path, allow_pickle=True)\n",
        "            keypoints_list.append(file_path)\n",
        "            labels_list.append(int(class_folder))\n",
        "\n",
        "process_keypoints(data_dir, keypoints_list, labels_list)\n",
        "\n",
        "\n",
        "print(\"Número de arquivos de keypoints:\", len(keypoints_list))\n",
        "print(\"Número de rótulos:\", len(labels_list))\n",
        "\n",
        "index = 0\n",
        "keypoints_file_path = keypoints_list[index]\n",
        "keypoints = np.load(keypoints_file_path, allow_pickle=True)\n",
        "label = labels_list[index]\n",
        "\n",
        "print(\"Caminho do arquivo de keypoints:\", keypoints_list)\n",
        "print(\"Rótulo correspondente:\", labels_list)\n"
      ],
      "metadata": {
        "colab": {
          "base_uri": "https://localhost:8080/"
        },
        "id": "LGq3bSLwAJqj",
        "outputId": "03708004-cc1e-4b88-dec7-204a52e60fcf"
      },
      "execution_count": 14,
      "outputs": [
        {
          "output_type": "stream",
          "name": "stdout",
          "text": [
            "Número de arquivos de keypoints: 66\n",
            "Número de rótulos: 66\n",
            "Caminho do arquivo de keypoints: ['/content/drive/MyDrive/GMA/Base atual/Kp_aumentados/0/bebe05-2_keypoints_aug_0.npy', '/content/drive/MyDrive/GMA/Base atual/Kp_aumentados/0/bebe05-2_keypoints_aug_1.npy', '/content/drive/MyDrive/GMA/Base atual/Kp_aumentados/0/bebe05-2_keypoints_aug_2.npy', '/content/drive/MyDrive/GMA/Base atual/Kp_aumentados/0/bebe02-4_keypoints_aug_0.npy', '/content/drive/MyDrive/GMA/Base atual/Kp_aumentados/0/bebe02-4_keypoints_aug_1.npy', '/content/drive/MyDrive/GMA/Base atual/Kp_aumentados/0/bebe02-4_keypoints_aug_2.npy', '/content/drive/MyDrive/GMA/Base atual/Kp_aumentados/0/bebe02-2_keypoints_aug_0.npy', '/content/drive/MyDrive/GMA/Base atual/Kp_aumentados/0/bebe02-2_keypoints_aug_1.npy', '/content/drive/MyDrive/GMA/Base atual/Kp_aumentados/0/bebe02-2_keypoints_aug_2.npy', '/content/drive/MyDrive/GMA/Base atual/Kp_aumentados/0/bebe05-1_keypoints_aug_0.npy', '/content/drive/MyDrive/GMA/Base atual/Kp_aumentados/0/bebe05-1_keypoints_aug_1.npy', '/content/drive/MyDrive/GMA/Base atual/Kp_aumentados/0/bebe05-1_keypoints_aug_2.npy', '/content/drive/MyDrive/GMA/Base atual/Kp_aumentados/0/bebe02-1_keypoints_aug_0.npy', '/content/drive/MyDrive/GMA/Base atual/Kp_aumentados/0/bebe02-1_keypoints_aug_1.npy', '/content/drive/MyDrive/GMA/Base atual/Kp_aumentados/0/bebe02-1_keypoints_aug_2.npy', '/content/drive/MyDrive/GMA/Base atual/Kp_aumentados/0/bebe02-3_keypoints_aug_0.npy', '/content/drive/MyDrive/GMA/Base atual/Kp_aumentados/0/bebe02-3_keypoints_aug_1.npy', '/content/drive/MyDrive/GMA/Base atual/Kp_aumentados/0/bebe02-3_keypoints_aug_2.npy', '/content/drive/MyDrive/GMA/Base atual/Kp_aumentados/1/bebe16-5_keypoints_aug_0.npy', '/content/drive/MyDrive/GMA/Base atual/Kp_aumentados/1/bebe16-5_keypoints_aug_1.npy', '/content/drive/MyDrive/GMA/Base atual/Kp_aumentados/1/bebe16-5_keypoints_aug_2.npy', '/content/drive/MyDrive/GMA/Base atual/Kp_aumentados/1/bebe14-1_keypoints_aug_0.npy', '/content/drive/MyDrive/GMA/Base atual/Kp_aumentados/1/bebe14-1_keypoints_aug_1.npy', '/content/drive/MyDrive/GMA/Base atual/Kp_aumentados/1/bebe14-1_keypoints_aug_2.npy', '/content/drive/MyDrive/GMA/Base atual/Kp_aumentados/1/bebe18_keypoints_aug_0.npy', '/content/drive/MyDrive/GMA/Base atual/Kp_aumentados/1/bebe18_keypoints_aug_1.npy', '/content/drive/MyDrive/GMA/Base atual/Kp_aumentados/1/bebe18_keypoints_aug_2.npy', '/content/drive/MyDrive/GMA/Base atual/Kp_aumentados/1/bebe21_keypoints_aug_0.npy', '/content/drive/MyDrive/GMA/Base atual/Kp_aumentados/1/bebe21_keypoints_aug_1.npy', '/content/drive/MyDrive/GMA/Base atual/Kp_aumentados/1/bebe21_keypoints_aug_2.npy', '/content/drive/MyDrive/GMA/Base atual/Kp_aumentados/1/bebe03_keypoints_aug_0.npy', '/content/drive/MyDrive/GMA/Base atual/Kp_aumentados/1/bebe03_keypoints_aug_1.npy', '/content/drive/MyDrive/GMA/Base atual/Kp_aumentados/1/bebe03_keypoints_aug_2.npy', '/content/drive/MyDrive/GMA/Base atual/Kp_aumentados/1/bebe22_keypoints_aug_0.npy', '/content/drive/MyDrive/GMA/Base atual/Kp_aumentados/1/bebe22_keypoints_aug_1.npy', '/content/drive/MyDrive/GMA/Base atual/Kp_aumentados/1/bebe22_keypoints_aug_2.npy', '/content/drive/MyDrive/GMA/Base atual/Kp_aumentados/1/bebe16-3_keypoints_aug_0.npy', '/content/drive/MyDrive/GMA/Base atual/Kp_aumentados/1/bebe16-3_keypoints_aug_1.npy', '/content/drive/MyDrive/GMA/Base atual/Kp_aumentados/1/bebe16-3_keypoints_aug_2.npy', '/content/drive/MyDrive/GMA/Base atual/Kp_aumentados/1/bebe14-2_keypoints_aug_0.npy', '/content/drive/MyDrive/GMA/Base atual/Kp_aumentados/1/bebe14-2_keypoints_aug_1.npy', '/content/drive/MyDrive/GMA/Base atual/Kp_aumentados/1/bebe14-2_keypoints_aug_2.npy', '/content/drive/MyDrive/GMA/Base atual/Kp_aumentados/1/bebe17-1_keypoints_aug_0.npy', '/content/drive/MyDrive/GMA/Base atual/Kp_aumentados/1/bebe17-1_keypoints_aug_1.npy', '/content/drive/MyDrive/GMA/Base atual/Kp_aumentados/1/bebe17-1_keypoints_aug_2.npy', '/content/drive/MyDrive/GMA/Base atual/Kp_aumentados/1/bebe16-2_keypoints_aug_0.npy', '/content/drive/MyDrive/GMA/Base atual/Kp_aumentados/1/bebe16-2_keypoints_aug_1.npy', '/content/drive/MyDrive/GMA/Base atual/Kp_aumentados/1/bebe16-2_keypoints_aug_2.npy', '/content/drive/MyDrive/GMA/Base atual/Kp_aumentados/1/bebe12_keypoints_aug_0.npy', '/content/drive/MyDrive/GMA/Base atual/Kp_aumentados/1/bebe12_keypoints_aug_1.npy', '/content/drive/MyDrive/GMA/Base atual/Kp_aumentados/1/bebe12_keypoints_aug_2.npy', '/content/drive/MyDrive/GMA/Base atual/Kp_aumentados/1/bebe04_keypoints_aug_0.npy', '/content/drive/MyDrive/GMA/Base atual/Kp_aumentados/1/bebe04_keypoints_aug_1.npy', '/content/drive/MyDrive/GMA/Base atual/Kp_aumentados/1/bebe04_keypoints_aug_2.npy', '/content/drive/MyDrive/GMA/Base atual/Kp_aumentados/1/bebe16-1_keypoints_aug_0.npy', '/content/drive/MyDrive/GMA/Base atual/Kp_aumentados/1/bebe16-1_keypoints_aug_1.npy', '/content/drive/MyDrive/GMA/Base atual/Kp_aumentados/1/bebe16-1_keypoints_aug_2.npy', '/content/drive/MyDrive/GMA/Base atual/Kp_aumentados/1/bebe08_keypoints_aug_0.npy', '/content/drive/MyDrive/GMA/Base atual/Kp_aumentados/1/bebe08_keypoints_aug_1.npy', '/content/drive/MyDrive/GMA/Base atual/Kp_aumentados/1/bebe08_keypoints_aug_2.npy', '/content/drive/MyDrive/GMA/Base atual/Kp_aumentados/1/bebe17-2_keypoints_aug_0.npy', '/content/drive/MyDrive/GMA/Base atual/Kp_aumentados/1/bebe17-2_keypoints_aug_1.npy', '/content/drive/MyDrive/GMA/Base atual/Kp_aumentados/1/bebe17-2_keypoints_aug_2.npy', '/content/drive/MyDrive/GMA/Base atual/Kp_aumentados/1/bebe16-4_keypoints_aug_0.npy', '/content/drive/MyDrive/GMA/Base atual/Kp_aumentados/1/bebe16-4_keypoints_aug_1.npy', '/content/drive/MyDrive/GMA/Base atual/Kp_aumentados/1/bebe16-4_keypoints_aug_2.npy']\n",
            "Rótulo correspondente: [0, 0, 0, 0, 0, 0, 0, 0, 0, 0, 0, 0, 0, 0, 0, 0, 0, 0, 1, 1, 1, 1, 1, 1, 1, 1, 1, 1, 1, 1, 1, 1, 1, 1, 1, 1, 1, 1, 1, 1, 1, 1, 1, 1, 1, 1, 1, 1, 1, 1, 1, 1, 1, 1, 1, 1, 1, 1, 1, 1, 1, 1, 1, 1, 1, 1]\n"
          ]
        }
      ]
    },
    {
      "cell_type": "markdown",
      "source": [
        "# Adiciona nas subpastas 0 e 1 dentro do diretorio de acordo com a label"
      ],
      "metadata": {
        "id": "L5dOvSMAITe1"
      }
    },
    {
      "cell_type": "markdown",
      "source": [
        "> Precisa que o diretorio e os subdiretorios de 0 e 1 sejam previamente criados"
      ],
      "metadata": {
        "id": "vPby9z-yIZjF"
      }
    },
    {
      "cell_type": "code",
      "source": [
        "def create_videos_for_keypoints(keypoints_list, labels_list, output_base_dir, fps=30, width=1080, height=1920, limbs=None):\n",
        "    \"\"\"\n",
        "    Cria vídeos para uma lista de arquivos de keypoints, salvando-os em diretórios diferentes com base no rótulo.\n",
        "\n",
        "    Params:\n",
        "    keypoints_list: list of str\n",
        "        Lista de caminhos para os arquivos .npy contendo os keypoints.\n",
        "    labels_list: list of int\n",
        "        Lista de rótulos correspondentes aos arquivos de keypoints.\n",
        "    output_base_dir: str\n",
        "        Diretório base onde os vídeos serão salvos.\n",
        "    fps: int, optional\n",
        "        Frames por segundo do vídeo (default é 30).\n",
        "    width: int, optional\n",
        "        Largura do vídeo em pixels (default é 1080).\n",
        "    height: int, optional\n",
        "        Altura do vídeo em pixels (default é 1920).\n",
        "    limbs: list of tuples, optional\n",
        "        Lista de conexões entre os keypoints para desenhar os \"ossos\" (default é None).\n",
        "    \"\"\"\n",
        "    for kp_path, label in zip(keypoints_list, labels_list):\n",
        "        # Define o diretório de saída com base no rótulo\n",
        "        if label == 0:\n",
        "            output_dir = os.path.join(output_base_dir, '0')\n",
        "        elif label == 1:\n",
        "            output_dir = os.path.join(output_base_dir, '1')\n",
        "        else:\n",
        "            print(f\"Rótulo desconhecido {label} para {kp_path}. Ignorando.\")\n",
        "            continue\n",
        "\n",
        "        # Certifique-se de que o diretório existe\n",
        "        os.makedirs(output_dir, exist_ok=True)\n",
        "\n",
        "        # Nome do arquivo de saída\n",
        "        video_filename = os.path.join(output_dir, f'{os.path.splitext(os.path.basename(kp_path))[0]}.mp4')\n",
        "        print(f\"Criando vídeo para {kp_path} com rótulo {label}\")\n",
        "\n",
        "        # Cria o vídeo\n",
        "        create_video_from_keypoints(kp_path, video_filename, fps=fps, width=width, height=height, limbs=limbs)\n",
        "\n",
        "# Caminho base para os vídeos\n",
        "output_base_dir = '/content/drive/MyDrive/GMA/Base atual/Kp_aumentados/Videos'\n",
        "\n",
        "# Adiciona nas subpastas 0 e 1 dentro do diretorio de acordo com a label\n",
        "# Criar vídeos\n",
        "create_videos_for_keypoints(keypoints_list, labels_list, output_base_dir, fps=30, width=1080, height=1920, limbs=limbs)\n"
      ],
      "metadata": {
        "colab": {
          "base_uri": "https://localhost:8080/"
        },
        "id": "3noMycn1AYsf",
        "outputId": "cde95c78-928f-4b2d-cd08-e814b822adda"
      },
      "execution_count": 16,
      "outputs": [
        {
          "output_type": "stream",
          "name": "stdout",
          "text": [
            "Criando vídeo para /content/drive/MyDrive/GMA/Base atual/Kp_aumentados/0/bebe05-2_keypoints_aug_0.npy com rótulo 0\n",
            "Criando vídeo para /content/drive/MyDrive/GMA/Base atual/Kp_aumentados/0/bebe05-2_keypoints_aug_1.npy com rótulo 0\n",
            "Criando vídeo para /content/drive/MyDrive/GMA/Base atual/Kp_aumentados/0/bebe05-2_keypoints_aug_2.npy com rótulo 0\n",
            "Criando vídeo para /content/drive/MyDrive/GMA/Base atual/Kp_aumentados/0/bebe02-4_keypoints_aug_0.npy com rótulo 0\n",
            "Criando vídeo para /content/drive/MyDrive/GMA/Base atual/Kp_aumentados/0/bebe02-4_keypoints_aug_1.npy com rótulo 0\n",
            "Criando vídeo para /content/drive/MyDrive/GMA/Base atual/Kp_aumentados/0/bebe02-4_keypoints_aug_2.npy com rótulo 0\n",
            "Criando vídeo para /content/drive/MyDrive/GMA/Base atual/Kp_aumentados/0/bebe02-2_keypoints_aug_0.npy com rótulo 0\n",
            "Criando vídeo para /content/drive/MyDrive/GMA/Base atual/Kp_aumentados/0/bebe02-2_keypoints_aug_1.npy com rótulo 0\n",
            "Criando vídeo para /content/drive/MyDrive/GMA/Base atual/Kp_aumentados/0/bebe02-2_keypoints_aug_2.npy com rótulo 0\n",
            "Criando vídeo para /content/drive/MyDrive/GMA/Base atual/Kp_aumentados/0/bebe05-1_keypoints_aug_0.npy com rótulo 0\n",
            "Criando vídeo para /content/drive/MyDrive/GMA/Base atual/Kp_aumentados/0/bebe05-1_keypoints_aug_1.npy com rótulo 0\n",
            "Criando vídeo para /content/drive/MyDrive/GMA/Base atual/Kp_aumentados/0/bebe05-1_keypoints_aug_2.npy com rótulo 0\n",
            "Criando vídeo para /content/drive/MyDrive/GMA/Base atual/Kp_aumentados/0/bebe02-1_keypoints_aug_0.npy com rótulo 0\n",
            "Criando vídeo para /content/drive/MyDrive/GMA/Base atual/Kp_aumentados/0/bebe02-1_keypoints_aug_1.npy com rótulo 0\n",
            "Criando vídeo para /content/drive/MyDrive/GMA/Base atual/Kp_aumentados/0/bebe02-1_keypoints_aug_2.npy com rótulo 0\n",
            "Criando vídeo para /content/drive/MyDrive/GMA/Base atual/Kp_aumentados/0/bebe02-3_keypoints_aug_0.npy com rótulo 0\n",
            "Criando vídeo para /content/drive/MyDrive/GMA/Base atual/Kp_aumentados/0/bebe02-3_keypoints_aug_1.npy com rótulo 0\n",
            "Criando vídeo para /content/drive/MyDrive/GMA/Base atual/Kp_aumentados/0/bebe02-3_keypoints_aug_2.npy com rótulo 0\n",
            "Criando vídeo para /content/drive/MyDrive/GMA/Base atual/Kp_aumentados/1/bebe16-5_keypoints_aug_0.npy com rótulo 1\n",
            "Criando vídeo para /content/drive/MyDrive/GMA/Base atual/Kp_aumentados/1/bebe16-5_keypoints_aug_1.npy com rótulo 1\n",
            "Criando vídeo para /content/drive/MyDrive/GMA/Base atual/Kp_aumentados/1/bebe16-5_keypoints_aug_2.npy com rótulo 1\n",
            "Criando vídeo para /content/drive/MyDrive/GMA/Base atual/Kp_aumentados/1/bebe14-1_keypoints_aug_0.npy com rótulo 1\n",
            "Criando vídeo para /content/drive/MyDrive/GMA/Base atual/Kp_aumentados/1/bebe14-1_keypoints_aug_1.npy com rótulo 1\n",
            "Criando vídeo para /content/drive/MyDrive/GMA/Base atual/Kp_aumentados/1/bebe14-1_keypoints_aug_2.npy com rótulo 1\n",
            "Criando vídeo para /content/drive/MyDrive/GMA/Base atual/Kp_aumentados/1/bebe18_keypoints_aug_0.npy com rótulo 1\n",
            "Criando vídeo para /content/drive/MyDrive/GMA/Base atual/Kp_aumentados/1/bebe18_keypoints_aug_1.npy com rótulo 1\n",
            "Criando vídeo para /content/drive/MyDrive/GMA/Base atual/Kp_aumentados/1/bebe18_keypoints_aug_2.npy com rótulo 1\n",
            "Criando vídeo para /content/drive/MyDrive/GMA/Base atual/Kp_aumentados/1/bebe21_keypoints_aug_0.npy com rótulo 1\n",
            "Criando vídeo para /content/drive/MyDrive/GMA/Base atual/Kp_aumentados/1/bebe21_keypoints_aug_1.npy com rótulo 1\n",
            "Criando vídeo para /content/drive/MyDrive/GMA/Base atual/Kp_aumentados/1/bebe21_keypoints_aug_2.npy com rótulo 1\n",
            "Criando vídeo para /content/drive/MyDrive/GMA/Base atual/Kp_aumentados/1/bebe03_keypoints_aug_0.npy com rótulo 1\n",
            "Criando vídeo para /content/drive/MyDrive/GMA/Base atual/Kp_aumentados/1/bebe03_keypoints_aug_1.npy com rótulo 1\n",
            "Criando vídeo para /content/drive/MyDrive/GMA/Base atual/Kp_aumentados/1/bebe03_keypoints_aug_2.npy com rótulo 1\n",
            "Criando vídeo para /content/drive/MyDrive/GMA/Base atual/Kp_aumentados/1/bebe22_keypoints_aug_0.npy com rótulo 1\n",
            "Criando vídeo para /content/drive/MyDrive/GMA/Base atual/Kp_aumentados/1/bebe22_keypoints_aug_1.npy com rótulo 1\n",
            "Criando vídeo para /content/drive/MyDrive/GMA/Base atual/Kp_aumentados/1/bebe22_keypoints_aug_2.npy com rótulo 1\n",
            "Criando vídeo para /content/drive/MyDrive/GMA/Base atual/Kp_aumentados/1/bebe16-3_keypoints_aug_0.npy com rótulo 1\n",
            "Criando vídeo para /content/drive/MyDrive/GMA/Base atual/Kp_aumentados/1/bebe16-3_keypoints_aug_1.npy com rótulo 1\n",
            "Criando vídeo para /content/drive/MyDrive/GMA/Base atual/Kp_aumentados/1/bebe16-3_keypoints_aug_2.npy com rótulo 1\n",
            "Criando vídeo para /content/drive/MyDrive/GMA/Base atual/Kp_aumentados/1/bebe14-2_keypoints_aug_0.npy com rótulo 1\n",
            "Criando vídeo para /content/drive/MyDrive/GMA/Base atual/Kp_aumentados/1/bebe14-2_keypoints_aug_1.npy com rótulo 1\n",
            "Criando vídeo para /content/drive/MyDrive/GMA/Base atual/Kp_aumentados/1/bebe14-2_keypoints_aug_2.npy com rótulo 1\n",
            "Criando vídeo para /content/drive/MyDrive/GMA/Base atual/Kp_aumentados/1/bebe17-1_keypoints_aug_0.npy com rótulo 1\n",
            "Criando vídeo para /content/drive/MyDrive/GMA/Base atual/Kp_aumentados/1/bebe17-1_keypoints_aug_1.npy com rótulo 1\n",
            "Criando vídeo para /content/drive/MyDrive/GMA/Base atual/Kp_aumentados/1/bebe17-1_keypoints_aug_2.npy com rótulo 1\n",
            "Criando vídeo para /content/drive/MyDrive/GMA/Base atual/Kp_aumentados/1/bebe16-2_keypoints_aug_0.npy com rótulo 1\n",
            "Criando vídeo para /content/drive/MyDrive/GMA/Base atual/Kp_aumentados/1/bebe16-2_keypoints_aug_1.npy com rótulo 1\n",
            "Criando vídeo para /content/drive/MyDrive/GMA/Base atual/Kp_aumentados/1/bebe16-2_keypoints_aug_2.npy com rótulo 1\n",
            "Criando vídeo para /content/drive/MyDrive/GMA/Base atual/Kp_aumentados/1/bebe12_keypoints_aug_0.npy com rótulo 1\n",
            "Criando vídeo para /content/drive/MyDrive/GMA/Base atual/Kp_aumentados/1/bebe12_keypoints_aug_1.npy com rótulo 1\n",
            "Criando vídeo para /content/drive/MyDrive/GMA/Base atual/Kp_aumentados/1/bebe12_keypoints_aug_2.npy com rótulo 1\n",
            "Criando vídeo para /content/drive/MyDrive/GMA/Base atual/Kp_aumentados/1/bebe04_keypoints_aug_0.npy com rótulo 1\n",
            "Criando vídeo para /content/drive/MyDrive/GMA/Base atual/Kp_aumentados/1/bebe04_keypoints_aug_1.npy com rótulo 1\n",
            "Criando vídeo para /content/drive/MyDrive/GMA/Base atual/Kp_aumentados/1/bebe04_keypoints_aug_2.npy com rótulo 1\n",
            "Criando vídeo para /content/drive/MyDrive/GMA/Base atual/Kp_aumentados/1/bebe16-1_keypoints_aug_0.npy com rótulo 1\n",
            "Criando vídeo para /content/drive/MyDrive/GMA/Base atual/Kp_aumentados/1/bebe16-1_keypoints_aug_1.npy com rótulo 1\n",
            "Criando vídeo para /content/drive/MyDrive/GMA/Base atual/Kp_aumentados/1/bebe16-1_keypoints_aug_2.npy com rótulo 1\n",
            "Criando vídeo para /content/drive/MyDrive/GMA/Base atual/Kp_aumentados/1/bebe08_keypoints_aug_0.npy com rótulo 1\n",
            "Criando vídeo para /content/drive/MyDrive/GMA/Base atual/Kp_aumentados/1/bebe08_keypoints_aug_1.npy com rótulo 1\n",
            "Criando vídeo para /content/drive/MyDrive/GMA/Base atual/Kp_aumentados/1/bebe08_keypoints_aug_2.npy com rótulo 1\n",
            "Criando vídeo para /content/drive/MyDrive/GMA/Base atual/Kp_aumentados/1/bebe17-2_keypoints_aug_0.npy com rótulo 1\n",
            "Criando vídeo para /content/drive/MyDrive/GMA/Base atual/Kp_aumentados/1/bebe17-2_keypoints_aug_1.npy com rótulo 1\n",
            "Criando vídeo para /content/drive/MyDrive/GMA/Base atual/Kp_aumentados/1/bebe17-2_keypoints_aug_2.npy com rótulo 1\n",
            "Criando vídeo para /content/drive/MyDrive/GMA/Base atual/Kp_aumentados/1/bebe16-4_keypoints_aug_0.npy com rótulo 1\n",
            "Criando vídeo para /content/drive/MyDrive/GMA/Base atual/Kp_aumentados/1/bebe16-4_keypoints_aug_1.npy com rótulo 1\n",
            "Criando vídeo para /content/drive/MyDrive/GMA/Base atual/Kp_aumentados/1/bebe16-4_keypoints_aug_2.npy com rótulo 1\n"
          ]
        }
      ]
    }
  ]
}