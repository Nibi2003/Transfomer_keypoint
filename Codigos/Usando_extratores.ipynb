{
  "nbformat": 4,
  "nbformat_minor": 0,
  "metadata": {
    "colab": {
      "provenance": [],
      "authorship_tag": "ABX9TyMagx2YzhmPldugVjs5nJOZ",
      "include_colab_link": true
    },
    "kernelspec": {
      "name": "python3",
      "display_name": "Python 3"
    },
    "language_info": {
      "name": "python"
    }
  },
  "cells": [
    {
      "cell_type": "markdown",
      "metadata": {
        "id": "view-in-github",
        "colab_type": "text"
      },
      "source": [
        "<a href=\"https://colab.research.google.com/github/Nibi2003/Transfomer_keypoint/blob/main/Codigos/Usando_extratores.ipynb\" target=\"_parent\"><img src=\"https://colab.research.google.com/assets/colab-badge.svg\" alt=\"Open In Colab\"/></a>"
      ]
    },
    {
      "cell_type": "code",
      "source": [
        "from google.colab import drive\n",
        "\n",
        "drive.mount('/content/drive')"
      ],
      "metadata": {
        "colab": {
          "base_uri": "https://localhost:8080/"
        },
        "id": "65_LKtpwO2BU",
        "outputId": "b2137425-2a1a-42a2-9c01-cdf87e4720f9"
      },
      "execution_count": 1,
      "outputs": [
        {
          "output_type": "stream",
          "name": "stdout",
          "text": [
            "Mounted at /content/drive\n"
          ]
        }
      ]
    },
    {
      "cell_type": "code",
      "source": [
        "!pip install mediapipe\n"
      ],
      "metadata": {
        "colab": {
          "base_uri": "https://localhost:8080/"
        },
        "id": "QzVlMhCdcE_U",
        "outputId": "7943c96d-3d14-432a-ac1c-765dca97bd98"
      },
      "execution_count": 6,
      "outputs": [
        {
          "output_type": "stream",
          "name": "stdout",
          "text": [
            "Collecting mediapipe\n",
            "  Downloading mediapipe-0.10.14-cp310-cp310-manylinux_2_17_x86_64.manylinux2014_x86_64.whl (35.7 MB)\n",
            "\u001b[2K     \u001b[90m━━━━━━━━━━━━━━━━━━━━━━━━━━━━━━━━━━━━━━━━\u001b[0m \u001b[32m35.7/35.7 MB\u001b[0m \u001b[31m17.9 MB/s\u001b[0m eta \u001b[36m0:00:00\u001b[0m\n",
            "\u001b[?25hRequirement already satisfied: absl-py in /usr/local/lib/python3.10/dist-packages (from mediapipe) (1.4.0)\n",
            "Requirement already satisfied: attrs>=19.1.0 in /usr/local/lib/python3.10/dist-packages (from mediapipe) (23.2.0)\n",
            "Requirement already satisfied: flatbuffers>=2.0 in /usr/local/lib/python3.10/dist-packages (from mediapipe) (24.3.25)\n",
            "Requirement already satisfied: jax in /usr/local/lib/python3.10/dist-packages (from mediapipe) (0.4.26)\n",
            "Requirement already satisfied: jaxlib in /usr/local/lib/python3.10/dist-packages (from mediapipe) (0.4.26+cuda12.cudnn89)\n",
            "Requirement already satisfied: matplotlib in /usr/local/lib/python3.10/dist-packages (from mediapipe) (3.7.1)\n",
            "Requirement already satisfied: numpy in /usr/local/lib/python3.10/dist-packages (from mediapipe) (1.25.2)\n",
            "Requirement already satisfied: opencv-contrib-python in /usr/local/lib/python3.10/dist-packages (from mediapipe) (4.8.0.76)\n",
            "Collecting protobuf<5,>=4.25.3 (from mediapipe)\n",
            "  Downloading protobuf-4.25.3-cp37-abi3-manylinux2014_x86_64.whl (294 kB)\n",
            "\u001b[2K     \u001b[90m━━━━━━━━━━━━━━━━━━━━━━━━━━━━━━━━━━━━━━━━\u001b[0m \u001b[32m294.6/294.6 kB\u001b[0m \u001b[31m23.3 MB/s\u001b[0m eta \u001b[36m0:00:00\u001b[0m\n",
            "\u001b[?25hCollecting sounddevice>=0.4.4 (from mediapipe)\n",
            "  Downloading sounddevice-0.4.7-py3-none-any.whl (32 kB)\n",
            "Requirement already satisfied: CFFI>=1.0 in /usr/local/lib/python3.10/dist-packages (from sounddevice>=0.4.4->mediapipe) (1.16.0)\n",
            "Requirement already satisfied: ml-dtypes>=0.2.0 in /usr/local/lib/python3.10/dist-packages (from jax->mediapipe) (0.2.0)\n",
            "Requirement already satisfied: opt-einsum in /usr/local/lib/python3.10/dist-packages (from jax->mediapipe) (3.3.0)\n",
            "Requirement already satisfied: scipy>=1.9 in /usr/local/lib/python3.10/dist-packages (from jax->mediapipe) (1.11.4)\n",
            "Requirement already satisfied: contourpy>=1.0.1 in /usr/local/lib/python3.10/dist-packages (from matplotlib->mediapipe) (1.2.1)\n",
            "Requirement already satisfied: cycler>=0.10 in /usr/local/lib/python3.10/dist-packages (from matplotlib->mediapipe) (0.12.1)\n",
            "Requirement already satisfied: fonttools>=4.22.0 in /usr/local/lib/python3.10/dist-packages (from matplotlib->mediapipe) (4.53.1)\n",
            "Requirement already satisfied: kiwisolver>=1.0.1 in /usr/local/lib/python3.10/dist-packages (from matplotlib->mediapipe) (1.4.5)\n",
            "Requirement already satisfied: packaging>=20.0 in /usr/local/lib/python3.10/dist-packages (from matplotlib->mediapipe) (24.1)\n",
            "Requirement already satisfied: pillow>=6.2.0 in /usr/local/lib/python3.10/dist-packages (from matplotlib->mediapipe) (9.4.0)\n",
            "Requirement already satisfied: pyparsing>=2.3.1 in /usr/local/lib/python3.10/dist-packages (from matplotlib->mediapipe) (3.1.2)\n",
            "Requirement already satisfied: python-dateutil>=2.7 in /usr/local/lib/python3.10/dist-packages (from matplotlib->mediapipe) (2.8.2)\n",
            "Requirement already satisfied: pycparser in /usr/local/lib/python3.10/dist-packages (from CFFI>=1.0->sounddevice>=0.4.4->mediapipe) (2.22)\n",
            "Requirement already satisfied: six>=1.5 in /usr/local/lib/python3.10/dist-packages (from python-dateutil>=2.7->matplotlib->mediapipe) (1.16.0)\n",
            "Installing collected packages: protobuf, sounddevice, mediapipe\n",
            "  Attempting uninstall: protobuf\n",
            "    Found existing installation: protobuf 3.20.3\n",
            "    Uninstalling protobuf-3.20.3:\n",
            "      Successfully uninstalled protobuf-3.20.3\n",
            "\u001b[31mERROR: pip's dependency resolver does not currently take into account all the packages that are installed. This behaviour is the source of the following dependency conflicts.\n",
            "tensorflow-metadata 1.15.0 requires protobuf<4.21,>=3.20.3; python_version < \"3.11\", but you have protobuf 4.25.3 which is incompatible.\u001b[0m\u001b[31m\n",
            "\u001b[0mSuccessfully installed mediapipe-0.10.14 protobuf-4.25.3 sounddevice-0.4.7\n"
          ]
        }
      ]
    },
    {
      "cell_type": "markdown",
      "source": [
        "# O código abaixo utiliza o extrator do midia pipe, requer um diretorio de origem e um de destino. É necessário colocar os kp em uma lista, já que não é um array homogeneo considerando kps vazios"
      ],
      "metadata": {
        "id": "0qfe0aNBfQlS"
      }
    },
    {
      "cell_type": "code",
      "source": [
        "import cv2\n",
        "import numpy as np\n",
        "import os\n",
        "import mediapipe as mp\n",
        "\n",
        "class MediaPipeKeypoints:\n",
        "    def __init__(self):\n",
        "        self.mp_pose = mp.solutions.pose\n",
        "        self.pose = self.mp_pose.Pose()\n",
        "        self.mp_drawing = mp.solutions.drawing_utils\n",
        "\n",
        "    def detect(self, frame):\n",
        "        image_rgb = cv2.cvtColor(frame, cv2.COLOR_BGR2RGB)\n",
        "        results = self.pose.process(image_rgb)\n",
        "        return results\n",
        "\n",
        "    def draw(self, frame, results):\n",
        "        annotated_image = frame.copy()\n",
        "        self.mp_drawing.draw_landmarks(annotated_image, results.pose_landmarks, self.mp_pose.POSE_CONNECTIONS)\n",
        "        return annotated_image\n",
        "\n",
        "# Diretórios\n",
        "original_videos_dir = '/content/drive/MyDrive/GMA/Vídeos bebês segmentos 2023/típico_cortado_padrao_1920x1080/split_videos/'\n",
        "output_base_dir = '/content/drive/MyDrive/GMA/Vídeos bebês segmentos 2023/keypoints_extraidos/MidiaPipe/0/'\n",
        "\n",
        "# Criar diretório de saída, se não existir\n",
        "if not os.path.exists(output_base_dir):\n",
        "    os.makedirs(output_base_dir)\n",
        "\n",
        "# Inicializar o detector de keypoints\n",
        "mp_keypoints = MediaPipeKeypoints()\n",
        "\n",
        "# Função para processar vídeos e salvar keypoints\n",
        "def process_videos():\n",
        "    for video_file in os.listdir(original_videos_dir):\n",
        "        video_path = os.path.join(original_videos_dir, video_file)\n",
        "        if os.path.isfile(video_path):\n",
        "            print(f'Processando {video_file}...')\n",
        "            # Abrir vídeo\n",
        "            cap = cv2.VideoCapture(video_path)\n",
        "            keypoints_list = []\n",
        "\n",
        "            while cap.isOpened():\n",
        "                ret, frame = cap.read()\n",
        "                if not ret:\n",
        "                    break\n",
        "\n",
        "                # Detectar keypoints\n",
        "                results = mp_keypoints.detect(frame)\n",
        "                if results.pose_landmarks:\n",
        "                    keypoints = [(lm.x, lm.y) for lm in results.pose_landmarks.landmark]\n",
        "                else:\n",
        "                    keypoints = [None] * 33  # Assumindo 33 pontos no modelo Pose\n",
        "\n",
        "                keypoints_list.append(keypoints)\n",
        "\n",
        "            cap.release()\n",
        "\n",
        "            # Ajustar formato dos dados\n",
        "            keypoints_array = np.array(keypoints_list, dtype=object)  # Usar dtype=object para lidar com None\n",
        "            keypoints_array = np.array([[kp if kp is not None else (None, None) for kp in frame] for frame in keypoints_array])\n",
        "\n",
        "            # Salvar keypoints em .npy\n",
        "            output_file = os.path.join(output_base_dir, os.path.splitext(video_file)[0] + '_keypoints.npy')\n",
        "            np.save(output_file, keypoints_array, allow_pickle=True)\n",
        "            print(f'Salvo keypoints em {output_file}')\n",
        "\n",
        "process_videos()\n",
        "\n"
      ],
      "metadata": {
        "colab": {
          "base_uri": "https://localhost:8080/"
        },
        "id": "ZyBAlz4yfIgG",
        "outputId": "4f1c0a80-4401-4186-9288-6e7ba80b342e"
      },
      "execution_count": 15,
      "outputs": [
        {
          "output_type": "stream",
          "name": "stdout",
          "text": [
            "Processando VID-20231016-WA0060_1_part_1.mp4...\n",
            "Salvo keypoints em /content/drive/MyDrive/GMA/Vídeos bebês segmentos 2023/keypoints_extraidos/MidiaPipe/0/VID-20231016-WA0060_1_part_1_keypoints.npy\n",
            "Processando VID-20231016-WA0054_15_part_1.mp4...\n",
            "Salvo keypoints em /content/drive/MyDrive/GMA/Vídeos bebês segmentos 2023/keypoints_extraidos/MidiaPipe/0/VID-20231016-WA0054_15_part_1_keypoints.npy\n",
            "Processando VID-20231016-WA0054_16_part_1.mp4...\n",
            "Salvo keypoints em /content/drive/MyDrive/GMA/Vídeos bebês segmentos 2023/keypoints_extraidos/MidiaPipe/0/VID-20231016-WA0054_16_part_1_keypoints.npy\n",
            "Processando VID-20231016-WA0068_1_part_1.mp4...\n",
            "Salvo keypoints em /content/drive/MyDrive/GMA/Vídeos bebês segmentos 2023/keypoints_extraidos/MidiaPipe/0/VID-20231016-WA0068_1_part_1_keypoints.npy\n",
            "Processando VID-20231016-WA0068_3_part_1.mp4...\n",
            "Salvo keypoints em /content/drive/MyDrive/GMA/Vídeos bebês segmentos 2023/keypoints_extraidos/MidiaPipe/0/VID-20231016-WA0068_3_part_1_keypoints.npy\n",
            "Processando VID-20231016-WA0080_4_part_1.mp4...\n",
            "Salvo keypoints em /content/drive/MyDrive/GMA/Vídeos bebês segmentos 2023/keypoints_extraidos/MidiaPipe/0/VID-20231016-WA0080_4_part_1_keypoints.npy\n",
            "Processando VID-20231016-WA0080_4_part_2.mp4...\n",
            "Salvo keypoints em /content/drive/MyDrive/GMA/Vídeos bebês segmentos 2023/keypoints_extraidos/MidiaPipe/0/VID-20231016-WA0080_4_part_2_keypoints.npy\n",
            "Processando VID-20231016-WA0080_6_part_1.mp4...\n",
            "Salvo keypoints em /content/drive/MyDrive/GMA/Vídeos bebês segmentos 2023/keypoints_extraidos/MidiaPipe/0/VID-20231016-WA0080_6_part_1_keypoints.npy\n",
            "Processando VID-20231016-WA0080_6_part_2.mp4...\n",
            "Salvo keypoints em /content/drive/MyDrive/GMA/Vídeos bebês segmentos 2023/keypoints_extraidos/MidiaPipe/0/VID-20231016-WA0080_6_part_2_keypoints.npy\n",
            "Processando VID-20231016-WA0080_6_part_3.mp4...\n",
            "Salvo keypoints em /content/drive/MyDrive/GMA/Vídeos bebês segmentos 2023/keypoints_extraidos/MidiaPipe/0/VID-20231016-WA0080_6_part_3_keypoints.npy\n",
            "Processando VID-20231016-WA0078_1_part_1.mp4...\n",
            "Salvo keypoints em /content/drive/MyDrive/GMA/Vídeos bebês segmentos 2023/keypoints_extraidos/MidiaPipe/0/VID-20231016-WA0078_1_part_1_keypoints.npy\n",
            "Processando VID-20231016-WA0078_1_part_2.mp4...\n",
            "Salvo keypoints em /content/drive/MyDrive/GMA/Vídeos bebês segmentos 2023/keypoints_extraidos/MidiaPipe/0/VID-20231016-WA0078_1_part_2_keypoints.npy\n",
            "Processando VID-20231016-WA0078_1_part_3.mp4...\n",
            "Salvo keypoints em /content/drive/MyDrive/GMA/Vídeos bebês segmentos 2023/keypoints_extraidos/MidiaPipe/0/VID-20231016-WA0078_1_part_3_keypoints.npy\n",
            "Processando VID-20231016-WA0078_1_part_4.mp4...\n",
            "Salvo keypoints em /content/drive/MyDrive/GMA/Vídeos bebês segmentos 2023/keypoints_extraidos/MidiaPipe/0/VID-20231016-WA0078_1_part_4_keypoints.npy\n",
            "Processando VID-20231016-WA0078_1_part_5.mp4...\n",
            "Salvo keypoints em /content/drive/MyDrive/GMA/Vídeos bebês segmentos 2023/keypoints_extraidos/MidiaPipe/0/VID-20231016-WA0078_1_part_5_keypoints.npy\n",
            "Processando VID-20231016-WA0078_1_part_6.mp4...\n",
            "Salvo keypoints em /content/drive/MyDrive/GMA/Vídeos bebês segmentos 2023/keypoints_extraidos/MidiaPipe/0/VID-20231016-WA0078_1_part_6_keypoints.npy\n",
            "Processando VID-20231016-WA0081_1_part_1.mp4...\n",
            "Salvo keypoints em /content/drive/MyDrive/GMA/Vídeos bebês segmentos 2023/keypoints_extraidos/MidiaPipe/0/VID-20231016-WA0081_1_part_1_keypoints.npy\n",
            "Processando VID-20231016-WA0082_1_part_1.mp4...\n",
            "Salvo keypoints em /content/drive/MyDrive/GMA/Vídeos bebês segmentos 2023/keypoints_extraidos/MidiaPipe/0/VID-20231016-WA0082_1_part_1_keypoints.npy\n",
            "Processando VID-20231016-WA0082_1_part_2.mp4...\n",
            "Salvo keypoints em /content/drive/MyDrive/GMA/Vídeos bebês segmentos 2023/keypoints_extraidos/MidiaPipe/0/VID-20231016-WA0082_1_part_2_keypoints.npy\n",
            "Processando VID-20231016-WA0082_1_part_3.mp4...\n",
            "Salvo keypoints em /content/drive/MyDrive/GMA/Vídeos bebês segmentos 2023/keypoints_extraidos/MidiaPipe/0/VID-20231016-WA0082_1_part_3_keypoints.npy\n",
            "Processando VID-20231016-WA0082_1_part_4.mp4...\n",
            "Salvo keypoints em /content/drive/MyDrive/GMA/Vídeos bebês segmentos 2023/keypoints_extraidos/MidiaPipe/0/VID-20231016-WA0082_1_part_4_keypoints.npy\n",
            "Processando VID-20231016-WA0070_1_part_1.mp4...\n",
            "Salvo keypoints em /content/drive/MyDrive/GMA/Vídeos bebês segmentos 2023/keypoints_extraidos/MidiaPipe/0/VID-20231016-WA0070_1_part_1_keypoints.npy\n",
            "Processando VID-20231016-WA0073_1_part_1.mp4...\n",
            "Salvo keypoints em /content/drive/MyDrive/GMA/Vídeos bebês segmentos 2023/keypoints_extraidos/MidiaPipe/0/VID-20231016-WA0073_1_part_1_keypoints.npy\n",
            "Processando VID-20231016-WA0073_1_part_2.mp4...\n",
            "Salvo keypoints em /content/drive/MyDrive/GMA/Vídeos bebês segmentos 2023/keypoints_extraidos/MidiaPipe/0/VID-20231016-WA0073_1_part_2_keypoints.npy\n",
            "Processando VID-20231016-WA0077_1_part_1.mp4...\n",
            "Salvo keypoints em /content/drive/MyDrive/GMA/Vídeos bebês segmentos 2023/keypoints_extraidos/MidiaPipe/0/VID-20231016-WA0077_1_part_1_keypoints.npy\n",
            "Processando VID-20231016-WA0094_1_part_1.mp4...\n",
            "Salvo keypoints em /content/drive/MyDrive/GMA/Vídeos bebês segmentos 2023/keypoints_extraidos/MidiaPipe/0/VID-20231016-WA0094_1_part_1_keypoints.npy\n",
            "Processando VID-20231016-WA0094_1_part_2.mp4...\n",
            "Salvo keypoints em /content/drive/MyDrive/GMA/Vídeos bebês segmentos 2023/keypoints_extraidos/MidiaPipe/0/VID-20231016-WA0094_1_part_2_keypoints.npy\n",
            "Processando VID-20231016-WA0094_1_part_3.mp4...\n",
            "Salvo keypoints em /content/drive/MyDrive/GMA/Vídeos bebês segmentos 2023/keypoints_extraidos/MidiaPipe/0/VID-20231016-WA0094_1_part_3_keypoints.npy\n",
            "Processando VID-20231016-WA0094_1_part_4.mp4...\n",
            "Salvo keypoints em /content/drive/MyDrive/GMA/Vídeos bebês segmentos 2023/keypoints_extraidos/MidiaPipe/0/VID-20231016-WA0094_1_part_4_keypoints.npy\n",
            "Processando VID-20231016-WA0054_12_extra_frames.mp4...\n",
            "Salvo keypoints em /content/drive/MyDrive/GMA/Vídeos bebês segmentos 2023/keypoints_extraidos/MidiaPipe/0/VID-20231016-WA0054_12_extra_frames_keypoints.npy\n"
          ]
        }
      ]
    },
    {
      "cell_type": "markdown",
      "source": [
        "> Verifica se o código deu certo"
      ],
      "metadata": {
        "id": "RL7ARJ2CunAd"
      }
    },
    {
      "cell_type": "code",
      "source": [
        "\n",
        "npy_dir = '/content/drive/MyDrive/GMA/Vídeos bebês segmentos 2023/keypoints_extraidos/MidiaPipe/0/'\n",
        "\n",
        "# Percorrer o diretório e carregar cada arquivo .npy\n",
        "for npy_file in os.listdir(npy_dir):\n",
        "    if npy_file.endswith('.npy'):\n",
        "        file_path = os.path.join(npy_dir, npy_file)\n",
        "        data = np.load(file_path, allow_pickle=True)\n",
        "        print(f'Arquivo: {npy_file}, Formato: {data.shape}')\n"
      ],
      "metadata": {
        "colab": {
          "base_uri": "https://localhost:8080/"
        },
        "id": "JVwH-wiwuiDW",
        "outputId": "1f4fc46b-6ab9-4f40-e88a-38d19bbbd8cb"
      },
      "execution_count": 16,
      "outputs": [
        {
          "output_type": "stream",
          "name": "stdout",
          "text": [
            "Arquivo: VID-20231016-WA0060_1_part_1_keypoints.npy, Formato: (900, 33, 2)\n",
            "Arquivo: VID-20231016-WA0054_15_part_1_keypoints.npy, Formato: (900, 33, 2)\n",
            "Arquivo: VID-20231016-WA0054_16_part_1_keypoints.npy, Formato: (900, 33, 2)\n",
            "Arquivo: VID-20231016-WA0068_1_part_1_keypoints.npy, Formato: (900, 33, 2)\n",
            "Arquivo: VID-20231016-WA0068_3_part_1_keypoints.npy, Formato: (900, 33, 2)\n",
            "Arquivo: VID-20231016-WA0080_4_part_1_keypoints.npy, Formato: (900, 33, 2)\n",
            "Arquivo: VID-20231016-WA0080_4_part_2_keypoints.npy, Formato: (900, 33, 2)\n",
            "Arquivo: VID-20231016-WA0080_6_part_1_keypoints.npy, Formato: (900, 33, 2)\n",
            "Arquivo: VID-20231016-WA0080_6_part_2_keypoints.npy, Formato: (900, 33, 2)\n",
            "Arquivo: VID-20231016-WA0080_6_part_3_keypoints.npy, Formato: (900, 33, 2)\n",
            "Arquivo: VID-20231016-WA0078_1_part_1_keypoints.npy, Formato: (900, 33, 2)\n",
            "Arquivo: VID-20231016-WA0078_1_part_2_keypoints.npy, Formato: (900, 33, 2)\n",
            "Arquivo: VID-20231016-WA0078_1_part_3_keypoints.npy, Formato: (900, 33, 2)\n",
            "Arquivo: VID-20231016-WA0078_1_part_4_keypoints.npy, Formato: (900, 33, 2)\n",
            "Arquivo: VID-20231016-WA0078_1_part_5_keypoints.npy, Formato: (900, 33, 2)\n",
            "Arquivo: VID-20231016-WA0078_1_part_6_keypoints.npy, Formato: (900, 33, 2)\n",
            "Arquivo: VID-20231016-WA0081_1_part_1_keypoints.npy, Formato: (900, 33, 2)\n",
            "Arquivo: VID-20231016-WA0082_1_part_1_keypoints.npy, Formato: (900, 33, 2)\n",
            "Arquivo: VID-20231016-WA0082_1_part_2_keypoints.npy, Formato: (900, 33, 2)\n",
            "Arquivo: VID-20231016-WA0082_1_part_3_keypoints.npy, Formato: (900, 33, 2)\n",
            "Arquivo: VID-20231016-WA0082_1_part_4_keypoints.npy, Formato: (900, 33, 2)\n",
            "Arquivo: VID-20231016-WA0070_1_part_1_keypoints.npy, Formato: (900, 33, 2)\n",
            "Arquivo: VID-20231016-WA0073_1_part_1_keypoints.npy, Formato: (900, 33, 2)\n",
            "Arquivo: VID-20231016-WA0073_1_part_2_keypoints.npy, Formato: (900, 33, 2)\n",
            "Arquivo: VID-20231016-WA0077_1_part_1_keypoints.npy, Formato: (900, 33, 2)\n",
            "Arquivo: VID-20231016-WA0094_1_part_1_keypoints.npy, Formato: (900, 33, 2)\n",
            "Arquivo: VID-20231016-WA0094_1_part_2_keypoints.npy, Formato: (900, 33, 2)\n",
            "Arquivo: VID-20231016-WA0094_1_part_3_keypoints.npy, Formato: (900, 33, 2)\n",
            "Arquivo: VID-20231016-WA0094_1_part_4_keypoints.npy, Formato: (900, 33, 2)\n",
            "Arquivo: VID-20231016-WA0054_12_extra_frames_keypoints.npy, Formato: (900, 33, 2)\n"
          ]
        }
      ]
    }
  ]
}